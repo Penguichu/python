{
 "cells": [
  {
   "cell_type": "code",
   "execution_count": 1,
   "id": "a4c84f37",
   "metadata": {},
   "outputs": [],
   "source": [
    "myString = \"hello python\""
   ]
  },
  {
   "cell_type": "code",
   "execution_count": 2,
   "id": "f9f6f9e0",
   "metadata": {},
   "outputs": [
    {
     "data": {
      "text/plain": [
       "['hello', 'python']"
      ]
     },
     "execution_count": 2,
     "metadata": {},
     "output_type": "execute_result"
    }
   ],
   "source": [
    "myString.split()"
   ]
  },
  {
   "cell_type": "code",
   "execution_count": 4,
   "id": "b21d3bd0",
   "metadata": {},
   "outputs": [
    {
     "data": {
      "text/plain": [
       "list"
      ]
     },
     "execution_count": 4,
     "metadata": {},
     "output_type": "execute_result"
    }
   ],
   "source": [
    "type(myString.split())"
   ]
  },
  {
   "cell_type": "code",
   "execution_count": 5,
   "id": "f7fa11c2",
   "metadata": {},
   "outputs": [],
   "source": [
    "#List"
   ]
  },
  {
   "cell_type": "code",
   "execution_count": 6,
   "id": "685416bb",
   "metadata": {},
   "outputs": [
    {
     "data": {
      "text/plain": [
       "'hello python'"
      ]
     },
     "execution_count": 6,
     "metadata": {},
     "output_type": "execute_result"
    }
   ],
   "source": [
    "myString"
   ]
  },
  {
   "cell_type": "code",
   "execution_count": 7,
   "id": "f242fa37",
   "metadata": {},
   "outputs": [
    {
     "data": {
      "text/plain": [
       "'h'"
      ]
     },
     "execution_count": 7,
     "metadata": {},
     "output_type": "execute_result"
    }
   ],
   "source": [
    "myString[0]"
   ]
  },
  {
   "cell_type": "code",
   "execution_count": 9,
   "id": "090d542a",
   "metadata": {},
   "outputs": [],
   "source": [
    "# myString[0] = \"a\""
   ]
  },
  {
   "cell_type": "code",
   "execution_count": 10,
   "id": "2399b4aa",
   "metadata": {},
   "outputs": [],
   "source": [
    "#immutable - immutability"
   ]
  },
  {
   "cell_type": "code",
   "execution_count": 12,
   "id": "ae89b492",
   "metadata": {},
   "outputs": [],
   "source": [
    "myString = \"mahir\""
   ]
  },
  {
   "cell_type": "markdown",
   "id": "adf5bbba",
   "metadata": {},
   "source": [
    "# List"
   ]
  },
  {
   "cell_type": "code",
   "execution_count": 13,
   "id": "d21a4743",
   "metadata": {},
   "outputs": [],
   "source": [
    "myList = [10, 20, 30]"
   ]
  },
  {
   "cell_type": "code",
   "execution_count": 15,
   "id": "eefd6add",
   "metadata": {},
   "outputs": [
    {
     "data": {
      "text/plain": [
       "list"
      ]
     },
     "execution_count": 15,
     "metadata": {},
     "output_type": "execute_result"
    }
   ],
   "source": [
    "type(myList)"
   ]
  },
  {
   "cell_type": "code",
   "execution_count": 16,
   "id": "db6a6a64",
   "metadata": {},
   "outputs": [],
   "source": [
    "x = 10\n",
    "y = 20\n",
    "z = 30"
   ]
  },
  {
   "cell_type": "code",
   "execution_count": 18,
   "id": "c60268e8",
   "metadata": {},
   "outputs": [],
   "source": [
    "myList = [x, y, z]"
   ]
  },
  {
   "cell_type": "code",
   "execution_count": 19,
   "id": "d719b8f9",
   "metadata": {},
   "outputs": [
    {
     "data": {
      "text/plain": [
       "[10, 20, 30]"
      ]
     },
     "execution_count": 19,
     "metadata": {},
     "output_type": "execute_result"
    }
   ],
   "source": [
    "myList"
   ]
  },
  {
   "cell_type": "code",
   "execution_count": 20,
   "id": "3b4a134e",
   "metadata": {},
   "outputs": [],
   "source": [
    "myList = [10, 20, 30, 40, 50, 60, 70]"
   ]
  },
  {
   "cell_type": "code",
   "execution_count": 21,
   "id": "01308804",
   "metadata": {},
   "outputs": [
    {
     "data": {
      "text/plain": [
       "10"
      ]
     },
     "execution_count": 21,
     "metadata": {},
     "output_type": "execute_result"
    }
   ],
   "source": [
    "myList[0]"
   ]
  },
  {
   "cell_type": "code",
   "execution_count": 22,
   "id": "73a45c27",
   "metadata": {},
   "outputs": [
    {
     "data": {
      "text/plain": [
       "list"
      ]
     },
     "execution_count": 22,
     "metadata": {},
     "output_type": "execute_result"
    }
   ],
   "source": [
    "type(myList)"
   ]
  },
  {
   "cell_type": "code",
   "execution_count": 23,
   "id": "ed1aa058",
   "metadata": {},
   "outputs": [
    {
     "data": {
      "text/plain": [
       "int"
      ]
     },
     "execution_count": 23,
     "metadata": {},
     "output_type": "execute_result"
    }
   ],
   "source": [
    "type(myList[0])"
   ]
  },
  {
   "cell_type": "code",
   "execution_count": 24,
   "id": "976fdcd8",
   "metadata": {},
   "outputs": [],
   "source": [
    "myList[0] = 100"
   ]
  },
  {
   "cell_type": "code",
   "execution_count": 25,
   "id": "f2128650",
   "metadata": {},
   "outputs": [],
   "source": [
    "#mutable, mutability"
   ]
  },
  {
   "cell_type": "code",
   "execution_count": 26,
   "id": "cb96c206",
   "metadata": {},
   "outputs": [
    {
     "data": {
      "text/plain": [
       "[100, 20, 30, 40, 50, 60, 70]"
      ]
     },
     "execution_count": 26,
     "metadata": {},
     "output_type": "execute_result"
    }
   ],
   "source": [
    "myList"
   ]
  },
  {
   "cell_type": "code",
   "execution_count": 27,
   "id": "85363592",
   "metadata": {},
   "outputs": [
    {
     "data": {
      "text/plain": [
       "7"
      ]
     },
     "execution_count": 27,
     "metadata": {},
     "output_type": "execute_result"
    }
   ],
   "source": [
    "len(myList)"
   ]
  },
  {
   "cell_type": "code",
   "execution_count": 28,
   "id": "1a13771d",
   "metadata": {},
   "outputs": [
    {
     "data": {
      "text/plain": [
       "70"
      ]
     },
     "execution_count": 28,
     "metadata": {},
     "output_type": "execute_result"
    }
   ],
   "source": [
    "myList[len(myList)-1]"
   ]
  },
  {
   "cell_type": "code",
   "execution_count": 29,
   "id": "c304b0a9",
   "metadata": {},
   "outputs": [
    {
     "data": {
      "text/plain": [
       "70"
      ]
     },
     "execution_count": 29,
     "metadata": {},
     "output_type": "execute_result"
    }
   ],
   "source": [
    "myList[-1]"
   ]
  },
  {
   "cell_type": "code",
   "execution_count": 30,
   "id": "64af40b1",
   "metadata": {},
   "outputs": [
    {
     "data": {
      "text/plain": [
       "60"
      ]
     },
     "execution_count": 30,
     "metadata": {},
     "output_type": "execute_result"
    }
   ],
   "source": [
    "myList[-2]"
   ]
  },
  {
   "cell_type": "code",
   "execution_count": 31,
   "id": "96041636",
   "metadata": {},
   "outputs": [
    {
     "data": {
      "text/plain": [
       "[100, 20, 30, 40, 50, 60, 70]"
      ]
     },
     "execution_count": 31,
     "metadata": {},
     "output_type": "execute_result"
    }
   ],
   "source": [
    "myList"
   ]
  },
  {
   "cell_type": "code",
   "execution_count": 33,
   "id": "23267353",
   "metadata": {},
   "outputs": [],
   "source": [
    "myList.append(80)"
   ]
  },
  {
   "cell_type": "code",
   "execution_count": 34,
   "id": "3889c7e7",
   "metadata": {},
   "outputs": [
    {
     "data": {
      "text/plain": [
       "[100, 20, 30, 40, 50, 60, 70, 80]"
      ]
     },
     "execution_count": 34,
     "metadata": {},
     "output_type": "execute_result"
    }
   ],
   "source": [
    "myList"
   ]
  },
  {
   "cell_type": "code",
   "execution_count": 35,
   "id": "790342a6",
   "metadata": {},
   "outputs": [],
   "source": [
    "myList.append(1)"
   ]
  },
  {
   "cell_type": "code",
   "execution_count": 36,
   "id": "328218c9",
   "metadata": {},
   "outputs": [
    {
     "data": {
      "text/plain": [
       "[100, 20, 30, 40, 50, 60, 70, 80, 1]"
      ]
     },
     "execution_count": 36,
     "metadata": {},
     "output_type": "execute_result"
    }
   ],
   "source": [
    "myList"
   ]
  },
  {
   "cell_type": "code",
   "execution_count": 37,
   "id": "ba0ca58d",
   "metadata": {},
   "outputs": [
    {
     "data": {
      "text/plain": [
       "9"
      ]
     },
     "execution_count": 37,
     "metadata": {},
     "output_type": "execute_result"
    }
   ],
   "source": [
    "len(myList)"
   ]
  },
  {
   "cell_type": "code",
   "execution_count": 38,
   "id": "8343bed4",
   "metadata": {},
   "outputs": [
    {
     "data": {
      "text/plain": [
       "1"
      ]
     },
     "execution_count": 38,
     "metadata": {},
     "output_type": "execute_result"
    }
   ],
   "source": [
    "myList.count(20)"
   ]
  },
  {
   "cell_type": "code",
   "execution_count": 39,
   "id": "525e7dd1",
   "metadata": {},
   "outputs": [
    {
     "data": {
      "text/plain": [
       "0"
      ]
     },
     "execution_count": 39,
     "metadata": {},
     "output_type": "execute_result"
    }
   ],
   "source": [
    "myList.count(25)"
   ]
  },
  {
   "cell_type": "code",
   "execution_count": 40,
   "id": "143925fd",
   "metadata": {},
   "outputs": [
    {
     "data": {
      "text/plain": [
       "3"
      ]
     },
     "execution_count": 40,
     "metadata": {},
     "output_type": "execute_result"
    }
   ],
   "source": [
    "myList.index(40)"
   ]
  },
  {
   "cell_type": "code",
   "execution_count": 41,
   "id": "a319c95a",
   "metadata": {},
   "outputs": [
    {
     "name": "stdout",
     "output_type": "stream",
     "text": [
      "Help on built-in function insert:\n",
      "\n",
      "insert(index, object, /) method of builtins.list instance\n",
      "    Insert object before index.\n",
      "\n"
     ]
    }
   ],
   "source": [
    "help(myList.insert)"
   ]
  },
  {
   "cell_type": "code",
   "execution_count": 42,
   "id": "7fba69de",
   "metadata": {},
   "outputs": [
    {
     "data": {
      "text/plain": [
       "[100, 20, 30, 40, 50, 60, 70, 80, 1]"
      ]
     },
     "execution_count": 42,
     "metadata": {},
     "output_type": "execute_result"
    }
   ],
   "source": [
    "myList"
   ]
  },
  {
   "cell_type": "code",
   "execution_count": 43,
   "id": "cccf44da",
   "metadata": {},
   "outputs": [],
   "source": [
    "myList.insert(2,35)"
   ]
  },
  {
   "cell_type": "code",
   "execution_count": 44,
   "id": "5809fc40",
   "metadata": {},
   "outputs": [
    {
     "data": {
      "text/plain": [
       "[100, 20, 35, 30, 40, 50, 60, 70, 80, 1]"
      ]
     },
     "execution_count": 44,
     "metadata": {},
     "output_type": "execute_result"
    }
   ],
   "source": [
    "myList"
   ]
  },
  {
   "cell_type": "code",
   "execution_count": 46,
   "id": "c0c90d12",
   "metadata": {},
   "outputs": [
    {
     "data": {
      "text/plain": [
       "1"
      ]
     },
     "execution_count": 46,
     "metadata": {},
     "output_type": "execute_result"
    }
   ],
   "source": [
    "myList.pop()"
   ]
  },
  {
   "cell_type": "code",
   "execution_count": 47,
   "id": "a79b284d",
   "metadata": {},
   "outputs": [
    {
     "data": {
      "text/plain": [
       "[100, 20, 35, 30, 40, 50, 60, 70, 80]"
      ]
     },
     "execution_count": 47,
     "metadata": {},
     "output_type": "execute_result"
    }
   ],
   "source": [
    "myList"
   ]
  },
  {
   "cell_type": "code",
   "execution_count": 48,
   "id": "bc7ec1a0",
   "metadata": {},
   "outputs": [],
   "source": [
    "myList.remove(40)"
   ]
  },
  {
   "cell_type": "code",
   "execution_count": 49,
   "id": "d46db9a8",
   "metadata": {},
   "outputs": [
    {
     "data": {
      "text/plain": [
       "[100, 20, 35, 30, 50, 60, 70, 80]"
      ]
     },
     "execution_count": 49,
     "metadata": {},
     "output_type": "execute_result"
    }
   ],
   "source": [
    "myList"
   ]
  },
  {
   "cell_type": "code",
   "execution_count": 50,
   "id": "f6753e99",
   "metadata": {},
   "outputs": [],
   "source": [
    "myList.reverse()"
   ]
  },
  {
   "cell_type": "code",
   "execution_count": 51,
   "id": "af108277",
   "metadata": {},
   "outputs": [
    {
     "data": {
      "text/plain": [
       "[80, 70, 60, 50, 30, 35, 20, 100]"
      ]
     },
     "execution_count": 51,
     "metadata": {},
     "output_type": "execute_result"
    }
   ],
   "source": [
    "myList"
   ]
  },
  {
   "cell_type": "code",
   "execution_count": 52,
   "id": "8cc3be54",
   "metadata": {},
   "outputs": [],
   "source": [
    "myList.sort()"
   ]
  },
  {
   "cell_type": "code",
   "execution_count": 53,
   "id": "15e67612",
   "metadata": {},
   "outputs": [
    {
     "data": {
      "text/plain": [
       "[20, 30, 35, 50, 60, 70, 80, 100]"
      ]
     },
     "execution_count": 53,
     "metadata": {},
     "output_type": "execute_result"
    }
   ],
   "source": [
    "myList\n"
   ]
  },
  {
   "cell_type": "code",
   "execution_count": 55,
   "id": "f612dd67",
   "metadata": {},
   "outputs": [
    {
     "name": "stdout",
     "output_type": "stream",
     "text": [
      "enter x10\n"
     ]
    }
   ],
   "source": [
    "x = input(\"enter x\")"
   ]
  },
  {
   "cell_type": "code",
   "execution_count": 56,
   "id": "83b755a3",
   "metadata": {},
   "outputs": [
    {
     "data": {
      "text/plain": [
       "'10'"
      ]
     },
     "execution_count": 56,
     "metadata": {},
     "output_type": "execute_result"
    }
   ],
   "source": [
    "x"
   ]
  },
  {
   "cell_type": "code",
   "execution_count": 57,
   "id": "99cab493",
   "metadata": {},
   "outputs": [
    {
     "data": {
      "text/plain": [
       "str"
      ]
     },
     "execution_count": 57,
     "metadata": {},
     "output_type": "execute_result"
    }
   ],
   "source": [
    "type(x)"
   ]
  },
  {
   "cell_type": "code",
   "execution_count": 58,
   "id": "5b2526b9",
   "metadata": {},
   "outputs": [
    {
     "name": "stdout",
     "output_type": "stream",
     "text": [
      "Enter y:20\n"
     ]
    }
   ],
   "source": [
    "y = input(\"Enter y:\")"
   ]
  },
  {
   "cell_type": "code",
   "execution_count": 59,
   "id": "62bc124c",
   "metadata": {},
   "outputs": [
    {
     "data": {
      "text/plain": [
       "'20'"
      ]
     },
     "execution_count": 59,
     "metadata": {},
     "output_type": "execute_result"
    }
   ],
   "source": [
    "y"
   ]
  },
  {
   "cell_type": "code",
   "execution_count": 60,
   "id": "7c02a632",
   "metadata": {},
   "outputs": [
    {
     "name": "stdout",
     "output_type": "stream",
     "text": [
      "Enter z:30\n"
     ]
    }
   ],
   "source": [
    "z = input(\"Enter z:\")"
   ]
  },
  {
   "cell_type": "code",
   "execution_count": 61,
   "id": "480b4b40",
   "metadata": {},
   "outputs": [
    {
     "data": {
      "text/plain": [
       "'30'"
      ]
     },
     "execution_count": 61,
     "metadata": {},
     "output_type": "execute_result"
    }
   ],
   "source": [
    "z"
   ]
  },
  {
   "cell_type": "code",
   "execution_count": 62,
   "id": "815be7ee",
   "metadata": {},
   "outputs": [],
   "source": [
    "inputList = []"
   ]
  },
  {
   "cell_type": "code",
   "execution_count": 63,
   "id": "970cb942",
   "metadata": {},
   "outputs": [
    {
     "data": {
      "text/plain": [
       "list"
      ]
     },
     "execution_count": 63,
     "metadata": {},
     "output_type": "execute_result"
    }
   ],
   "source": [
    "type(inputList)"
   ]
  },
  {
   "cell_type": "code",
   "execution_count": 64,
   "id": "62466083",
   "metadata": {},
   "outputs": [
    {
     "data": {
      "text/plain": [
       "0"
      ]
     },
     "execution_count": 64,
     "metadata": {},
     "output_type": "execute_result"
    }
   ],
   "source": [
    "len(inputList)"
   ]
  },
  {
   "cell_type": "code",
   "execution_count": 67,
   "id": "f64bacab",
   "metadata": {},
   "outputs": [],
   "source": [
    "inputList.append(x)\n",
    "inputList.append(y)\n",
    "inputList.append(z)"
   ]
  },
  {
   "cell_type": "code",
   "execution_count": 68,
   "id": "4a12099b",
   "metadata": {},
   "outputs": [
    {
     "data": {
      "text/plain": [
       "['10', '10', '10', '20', '30']"
      ]
     },
     "execution_count": 68,
     "metadata": {},
     "output_type": "execute_result"
    }
   ],
   "source": [
    "inputList"
   ]
  },
  {
   "cell_type": "code",
   "execution_count": 69,
   "id": "e6718393",
   "metadata": {},
   "outputs": [
    {
     "data": {
      "text/plain": [
       "'10'"
      ]
     },
     "execution_count": 69,
     "metadata": {},
     "output_type": "execute_result"
    }
   ],
   "source": [
    "inputList[1]"
   ]
  },
  {
   "cell_type": "code",
   "execution_count": 71,
   "id": "f9a72c33",
   "metadata": {},
   "outputs": [
    {
     "data": {
      "text/plain": [
       "'1010'"
      ]
     },
     "execution_count": 71,
     "metadata": {},
     "output_type": "execute_result"
    }
   ],
   "source": [
    "inputList[1] * 2"
   ]
  },
  {
   "cell_type": "code",
   "execution_count": 72,
   "id": "c545bb71",
   "metadata": {},
   "outputs": [
    {
     "data": {
      "text/plain": [
       "str"
      ]
     },
     "execution_count": 72,
     "metadata": {},
     "output_type": "execute_result"
    }
   ],
   "source": [
    "type(inputList[1])"
   ]
  },
  {
   "cell_type": "code",
   "execution_count": 73,
   "id": "22d9c146",
   "metadata": {},
   "outputs": [],
   "source": [
    "myInteger = 50"
   ]
  },
  {
   "cell_type": "code",
   "execution_count": 74,
   "id": "67281719",
   "metadata": {},
   "outputs": [
    {
     "data": {
      "text/plain": [
       "'50'"
      ]
     },
     "execution_count": 74,
     "metadata": {},
     "output_type": "execute_result"
    }
   ],
   "source": [
    "str(myInteger)"
   ]
  },
  {
   "cell_type": "code",
   "execution_count": 76,
   "id": "b656465a",
   "metadata": {},
   "outputs": [],
   "source": [
    "myString = \"40\""
   ]
  },
  {
   "cell_type": "code",
   "execution_count": 77,
   "id": "91bf9db2",
   "metadata": {},
   "outputs": [
    {
     "data": {
      "text/plain": [
       "40.0"
      ]
     },
     "execution_count": 77,
     "metadata": {},
     "output_type": "execute_result"
    }
   ],
   "source": [
    "float(myString)"
   ]
  },
  {
   "cell_type": "code",
   "execution_count": 78,
   "id": "a6420d2d",
   "metadata": {},
   "outputs": [],
   "source": [
    "myString = \"python\""
   ]
  },
  {
   "cell_type": "code",
   "execution_count": 79,
   "id": "1bc0c576",
   "metadata": {},
   "outputs": [],
   "source": [
    "# int(myString)"
   ]
  },
  {
   "cell_type": "code",
   "execution_count": 80,
   "id": "e986d126",
   "metadata": {},
   "outputs": [],
   "source": [
    "# float(myString)"
   ]
  },
  {
   "cell_type": "code",
   "execution_count": 81,
   "id": "ee72de13",
   "metadata": {},
   "outputs": [
    {
     "data": {
      "text/plain": [
       "20"
      ]
     },
     "execution_count": 81,
     "metadata": {},
     "output_type": "execute_result"
    }
   ],
   "source": [
    "int(inputList[1]) * 2"
   ]
  },
  {
   "cell_type": "code",
   "execution_count": 82,
   "id": "cf59cd67",
   "metadata": {},
   "outputs": [
    {
     "data": {
      "text/plain": [
       "['10', '10', '10', '20', '30']"
      ]
     },
     "execution_count": 82,
     "metadata": {},
     "output_type": "execute_result"
    }
   ],
   "source": [
    "inputList"
   ]
  },
  {
   "cell_type": "code",
   "execution_count": 83,
   "id": "c6805e3b",
   "metadata": {},
   "outputs": [
    {
     "data": {
      "text/plain": [
       "\"['10', '10', '10', '20', '30']\""
      ]
     },
     "execution_count": 83,
     "metadata": {},
     "output_type": "execute_result"
    }
   ],
   "source": [
    "str(inputList)"
   ]
  },
  {
   "cell_type": "code",
   "execution_count": 91,
   "id": "64ccce0c",
   "metadata": {},
   "outputs": [],
   "source": [
    "inputList.remove('10')"
   ]
  },
  {
   "cell_type": "code",
   "execution_count": 93,
   "id": "8cf67f07",
   "metadata": {},
   "outputs": [],
   "source": [
    "inputList.remove('10')"
   ]
  },
  {
   "cell_type": "code",
   "execution_count": 94,
   "id": "74fa2122",
   "metadata": {},
   "outputs": [
    {
     "data": {
      "text/plain": [
       "['10', '20', '30']"
      ]
     },
     "execution_count": 94,
     "metadata": {},
     "output_type": "execute_result"
    }
   ],
   "source": [
    "inputList"
   ]
  },
  {
   "cell_type": "code",
   "execution_count": 95,
   "id": "06404041",
   "metadata": {},
   "outputs": [],
   "source": [
    "nameList = [\"atil\", \"atlas\", \"a\", \"b\"]"
   ]
  },
  {
   "cell_type": "code",
   "execution_count": 96,
   "id": "2315a5bd",
   "metadata": {},
   "outputs": [
    {
     "data": {
      "text/plain": [
       "list"
      ]
     },
     "execution_count": 96,
     "metadata": {},
     "output_type": "execute_result"
    }
   ],
   "source": [
    "type(nameList)"
   ]
  },
  {
   "cell_type": "code",
   "execution_count": 98,
   "id": "c918f8ec",
   "metadata": {},
   "outputs": [],
   "source": [
    "floatList = [3.14, 2.5, 10.2, 100.123]"
   ]
  },
  {
   "cell_type": "code",
   "execution_count": 99,
   "id": "f71ac18a",
   "metadata": {},
   "outputs": [
    {
     "data": {
      "text/plain": [
       "list"
      ]
     },
     "execution_count": 99,
     "metadata": {},
     "output_type": "execute_result"
    }
   ],
   "source": [
    "type(floatList)"
   ]
  },
  {
   "cell_type": "code",
   "execution_count": 100,
   "id": "32b8c0a7",
   "metadata": {},
   "outputs": [],
   "source": [
    "mixedList = [\"atil\", 100, 3.14]"
   ]
  },
  {
   "cell_type": "code",
   "execution_count": 101,
   "id": "4f9746e6",
   "metadata": {},
   "outputs": [
    {
     "data": {
      "text/plain": [
       "list"
      ]
     },
     "execution_count": 101,
     "metadata": {},
     "output_type": "execute_result"
    }
   ],
   "source": [
    "type(mixedList)"
   ]
  },
  {
   "cell_type": "code",
   "execution_count": 102,
   "id": "401fafdf",
   "metadata": {},
   "outputs": [],
   "source": [
    "list1 = [10, 20, 30]\n",
    "list2 = [40, 50, 60]"
   ]
  },
  {
   "cell_type": "code",
   "execution_count": 103,
   "id": "77d3109f",
   "metadata": {},
   "outputs": [
    {
     "data": {
      "text/plain": [
       "[10, 20, 30, 40, 50, 60]"
      ]
     },
     "execution_count": 103,
     "metadata": {},
     "output_type": "execute_result"
    }
   ],
   "source": [
    "list1 + list2"
   ]
  },
  {
   "cell_type": "code",
   "execution_count": 104,
   "id": "6fdeb7da",
   "metadata": {},
   "outputs": [
    {
     "data": {
      "text/plain": [
       "[10, 20, 30, 10, 20, 30]"
      ]
     },
     "execution_count": 104,
     "metadata": {},
     "output_type": "execute_result"
    }
   ],
   "source": [
    "list1 * 2"
   ]
  },
  {
   "cell_type": "code",
   "execution_count": 107,
   "id": "8ef33432",
   "metadata": {},
   "outputs": [],
   "source": [
    "#list1 / 2"
   ]
  },
  {
   "cell_type": "code",
   "execution_count": 108,
   "id": "42806299",
   "metadata": {},
   "outputs": [
    {
     "data": {
      "text/plain": [
       "['atil', 100, 3.14]"
      ]
     },
     "execution_count": 108,
     "metadata": {},
     "output_type": "execute_result"
    }
   ],
   "source": [
    "mixedList"
   ]
  },
  {
   "cell_type": "code",
   "execution_count": 109,
   "id": "a0697c67",
   "metadata": {},
   "outputs": [
    {
     "data": {
      "text/plain": [
       "int"
      ]
     },
     "execution_count": 109,
     "metadata": {},
     "output_type": "execute_result"
    }
   ],
   "source": [
    "type(mixedList[1])"
   ]
  },
  {
   "cell_type": "code",
   "execution_count": 110,
   "id": "4a3c291f",
   "metadata": {},
   "outputs": [
    {
     "data": {
      "text/plain": [
       "str"
      ]
     },
     "execution_count": 110,
     "metadata": {},
     "output_type": "execute_result"
    }
   ],
   "source": [
    "type(mixedList[0])"
   ]
  },
  {
   "cell_type": "code",
   "execution_count": 111,
   "id": "f1abf138",
   "metadata": {},
   "outputs": [
    {
     "data": {
      "text/plain": [
       "float"
      ]
     },
     "execution_count": 111,
     "metadata": {},
     "output_type": "execute_result"
    }
   ],
   "source": [
    "type(mixedList[2])"
   ]
  },
  {
   "cell_type": "code",
   "execution_count": 112,
   "id": "9de0f55e",
   "metadata": {},
   "outputs": [],
   "source": [
    "#nestedList"
   ]
  },
  {
   "cell_type": "code",
   "execution_count": 113,
   "id": "c1c64ab9",
   "metadata": {},
   "outputs": [],
   "source": [
    "myNestedList = [10, 20, 3.14, \"mahir\", [1, 2, 3]]"
   ]
  },
  {
   "cell_type": "code",
   "execution_count": 114,
   "id": "2507409e",
   "metadata": {},
   "outputs": [
    {
     "data": {
      "text/plain": [
       "10"
      ]
     },
     "execution_count": 114,
     "metadata": {},
     "output_type": "execute_result"
    }
   ],
   "source": [
    "myNestedList[0]"
   ]
  },
  {
   "cell_type": "code",
   "execution_count": 115,
   "id": "fcc6b79a",
   "metadata": {},
   "outputs": [
    {
     "data": {
      "text/plain": [
       "20"
      ]
     },
     "execution_count": 115,
     "metadata": {},
     "output_type": "execute_result"
    }
   ],
   "source": [
    "myNestedList[1]"
   ]
  },
  {
   "cell_type": "code",
   "execution_count": 116,
   "id": "57b481f9",
   "metadata": {},
   "outputs": [
    {
     "data": {
      "text/plain": [
       "3.14"
      ]
     },
     "execution_count": 116,
     "metadata": {},
     "output_type": "execute_result"
    }
   ],
   "source": [
    "myNestedList[2]"
   ]
  },
  {
   "cell_type": "code",
   "execution_count": 117,
   "id": "5481bfe1",
   "metadata": {},
   "outputs": [
    {
     "data": {
      "text/plain": [
       "'mahir'"
      ]
     },
     "execution_count": 117,
     "metadata": {},
     "output_type": "execute_result"
    }
   ],
   "source": [
    "myNestedList[3]"
   ]
  },
  {
   "cell_type": "code",
   "execution_count": 118,
   "id": "b0db3003",
   "metadata": {},
   "outputs": [
    {
     "data": {
      "text/plain": [
       "[1, 2, 3]"
      ]
     },
     "execution_count": 118,
     "metadata": {},
     "output_type": "execute_result"
    }
   ],
   "source": [
    "myNestedList[4]"
   ]
  },
  {
   "cell_type": "code",
   "execution_count": 119,
   "id": "524ec3bd",
   "metadata": {},
   "outputs": [],
   "source": [
    "x = myNestedList[0]"
   ]
  },
  {
   "cell_type": "code",
   "execution_count": 120,
   "id": "29e50f78",
   "metadata": {},
   "outputs": [
    {
     "data": {
      "text/plain": [
       "10"
      ]
     },
     "execution_count": 120,
     "metadata": {},
     "output_type": "execute_result"
    }
   ],
   "source": [
    "x"
   ]
  },
  {
   "cell_type": "code",
   "execution_count": 121,
   "id": "873ae754",
   "metadata": {},
   "outputs": [],
   "source": [
    "smallList = myNestedList[4]"
   ]
  },
  {
   "cell_type": "code",
   "execution_count": 122,
   "id": "41f03d3f",
   "metadata": {},
   "outputs": [
    {
     "data": {
      "text/plain": [
       "[1, 2, 3]"
      ]
     },
     "execution_count": 122,
     "metadata": {},
     "output_type": "execute_result"
    }
   ],
   "source": [
    "smallList"
   ]
  },
  {
   "cell_type": "code",
   "execution_count": 123,
   "id": "b4226f00",
   "metadata": {},
   "outputs": [
    {
     "data": {
      "text/plain": [
       "list"
      ]
     },
     "execution_count": 123,
     "metadata": {},
     "output_type": "execute_result"
    }
   ],
   "source": [
    "type(smallList)"
   ]
  },
  {
   "cell_type": "code",
   "execution_count": 124,
   "id": "bf0b2b6c",
   "metadata": {},
   "outputs": [
    {
     "data": {
      "text/plain": [
       "[10, 20, 3.14, 'mahir', [1, 2, 3]]"
      ]
     },
     "execution_count": 124,
     "metadata": {},
     "output_type": "execute_result"
    }
   ],
   "source": [
    "myNestedList"
   ]
  },
  {
   "cell_type": "code",
   "execution_count": 125,
   "id": "6f8a9163",
   "metadata": {},
   "outputs": [],
   "source": [
    "smallList = myNestedList[-1]"
   ]
  },
  {
   "cell_type": "code",
   "execution_count": 126,
   "id": "dee5c32d",
   "metadata": {},
   "outputs": [
    {
     "data": {
      "text/plain": [
       "[1, 2, 3]"
      ]
     },
     "execution_count": 126,
     "metadata": {},
     "output_type": "execute_result"
    }
   ],
   "source": [
    "smallList"
   ]
  },
  {
   "cell_type": "code",
   "execution_count": 127,
   "id": "91ab32ba",
   "metadata": {},
   "outputs": [
    {
     "data": {
      "text/plain": [
       "2"
      ]
     },
     "execution_count": 127,
     "metadata": {},
     "output_type": "execute_result"
    }
   ],
   "source": [
    "smallList[1]"
   ]
  },
  {
   "cell_type": "code",
   "execution_count": 128,
   "id": "919b32b6",
   "metadata": {},
   "outputs": [
    {
     "data": {
      "text/plain": [
       "2"
      ]
     },
     "execution_count": 128,
     "metadata": {},
     "output_type": "execute_result"
    }
   ],
   "source": [
    "myNestedList[4][1]"
   ]
  },
  {
   "cell_type": "code",
   "execution_count": 129,
   "id": "614e1a77",
   "metadata": {},
   "outputs": [],
   "source": [
    "lastList = [\"a\", \"b\", [\"c\", \"d\", \"e\"], \"f\"]"
   ]
  },
  {
   "cell_type": "code",
   "execution_count": 130,
   "id": "8ba60b9f",
   "metadata": {},
   "outputs": [
    {
     "data": {
      "text/plain": [
       "4"
      ]
     },
     "execution_count": 130,
     "metadata": {},
     "output_type": "execute_result"
    }
   ],
   "source": [
    "len(lastList)"
   ]
  },
  {
   "cell_type": "code",
   "execution_count": 132,
   "id": "0ec8646a",
   "metadata": {},
   "outputs": [
    {
     "data": {
      "text/plain": [
       "'d'"
      ]
     },
     "execution_count": 132,
     "metadata": {},
     "output_type": "execute_result"
    }
   ],
   "source": [
    "lastList[2][1]"
   ]
  },
  {
   "cell_type": "code",
   "execution_count": 133,
   "id": "f469de11",
   "metadata": {},
   "outputs": [],
   "source": [
    "firstList = [10, 20, 30, 40, 50, 60, 70]"
   ]
  },
  {
   "cell_type": "code",
   "execution_count": 134,
   "id": "dd1665e1",
   "metadata": {},
   "outputs": [
    {
     "data": {
      "text/plain": [
       "[10, 20, 30, 40, 50, 60, 70]"
      ]
     },
     "execution_count": 134,
     "metadata": {},
     "output_type": "execute_result"
    }
   ],
   "source": [
    "firstList[::]"
   ]
  },
  {
   "cell_type": "code",
   "execution_count": 135,
   "id": "57048679",
   "metadata": {},
   "outputs": [
    {
     "data": {
      "text/plain": [
       "[30, 40, 50, 60, 70]"
      ]
     },
     "execution_count": 135,
     "metadata": {},
     "output_type": "execute_result"
    }
   ],
   "source": [
    "firstList[2::]"
   ]
  },
  {
   "cell_type": "code",
   "execution_count": 136,
   "id": "46027b4e",
   "metadata": {},
   "outputs": [
    {
     "data": {
      "text/plain": [
       "[10, 20, 30, 40, 50]"
      ]
     },
     "execution_count": 136,
     "metadata": {},
     "output_type": "execute_result"
    }
   ],
   "source": [
    "firstList[:5:]"
   ]
  },
  {
   "cell_type": "code",
   "execution_count": 137,
   "id": "fe920eac",
   "metadata": {},
   "outputs": [
    {
     "data": {
      "text/plain": [
       "[10, 30, 50, 70]"
      ]
     },
     "execution_count": 137,
     "metadata": {},
     "output_type": "execute_result"
    }
   ],
   "source": [
    "firstList[::2]"
   ]
  },
  {
   "cell_type": "code",
   "execution_count": 138,
   "id": "ab21d82e",
   "metadata": {},
   "outputs": [
    {
     "data": {
      "text/plain": [
       "[20, 40, 60]"
      ]
     },
     "execution_count": 138,
     "metadata": {},
     "output_type": "execute_result"
    }
   ],
   "source": [
    "firstList[1:6:2]"
   ]
  },
  {
   "cell_type": "code",
   "execution_count": null,
   "id": "c2bfc574",
   "metadata": {},
   "outputs": [],
   "source": []
  }
 ],
 "metadata": {
  "kernelspec": {
   "display_name": "Python 3 (ipykernel)",
   "language": "python",
   "name": "python3"
  },
  "language_info": {
   "codemirror_mode": {
    "name": "ipython",
    "version": 3
   },
   "file_extension": ".py",
   "mimetype": "text/x-python",
   "name": "python",
   "nbconvert_exporter": "python",
   "pygments_lexer": "ipython3",
   "version": "3.11.5"
  }
 },
 "nbformat": 4,
 "nbformat_minor": 5
}
